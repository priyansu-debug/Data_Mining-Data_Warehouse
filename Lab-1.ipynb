{
  "nbformat": 4,
  "nbformat_minor": 0,
  "metadata": {
    "colab": {
      "provenance": [],
      "authorship_tag": "ABX9TyOpjZbXSBRNPuqRzUvAjqTS"
    },
    "kernelspec": {
      "name": "python3",
      "display_name": "Python 3"
    },
    "language_info": {
      "name": "python"
    }
  },
  "cells": [
    {
      "cell_type": "code",
      "execution_count": 1,
      "metadata": {
        "colab": {
          "base_uri": "https://localhost:8080/"
        },
        "id": "RScXDF2GDR1u",
        "outputId": "99f016f5-5bb1-4a44-f27e-83687e264bff"
      },
      "outputs": [
        {
          "output_type": "stream",
          "name": "stdout",
          "text": [
            "l2 of positive numbers: [4, 9, 36]\n"
          ]
        }
      ],
      "source": [
        "l1=[2,3,-4,-5,6]\n",
        "l2=[]\n",
        "for num in l1:\n",
        "    if num>0:\n",
        "        l2.append(num*num)\n",
        "\n",
        "print(\"l2 of positive numbers:\", l2)"
      ]
    },
    {
      "cell_type": "code",
      "source": [
        "l1=[1,2,3,4]\n",
        "l2=[3,4,5,6]\n",
        "common=[]\n",
        "for x in l1:\n",
        "    if x in l2:\n",
        "        common.append(x)\n",
        "\n",
        "print(\"common elements:\",common)"
      ],
      "metadata": {
        "colab": {
          "base_uri": "https://localhost:8080/"
        },
        "id": "SwK6dv2QESjF",
        "outputId": "bb3589ee-88b4-4b46-e305-87380c683bd0"
      },
      "execution_count": 2,
      "outputs": [
        {
          "output_type": "stream",
          "name": "stdout",
          "text": [
            "common elements: [3, 4]\n"
          ]
        }
      ]
    },
    {
      "cell_type": "code",
      "source": [
        "l1=[1,2,2,3,1]\n",
        "l2=[]\n",
        "\n",
        "for x in l1:\n",
        "    if x not in l2:\n",
        "        l2.append(x)\n",
        "\n",
        "print(\"list without dulplicates:\", l2)"
      ],
      "metadata": {
        "colab": {
          "base_uri": "https://localhost:8080/"
        },
        "id": "nCl5cGPNFYtw",
        "outputId": "3d6cd0ae-9360-4f04-f52e-fcec3ca3d3b9"
      },
      "execution_count": 3,
      "outputs": [
        {
          "output_type": "stream",
          "name": "stdout",
          "text": [
            "list without dulplicates: [1, 2, 3]\n"
          ]
        }
      ]
    },
    {
      "cell_type": "code",
      "source": [
        "intervals = [[1, 3], [2, 6], [8, 10]]\n",
        "intervals.sort()\n",
        "merged = [intervals[0]]\n",
        "\n",
        "for current in intervals[1:]:\n",
        "    last = merged[-1]\n",
        "    if current[0] <= last[1]:\n",
        "        last[1] = max(last[1], current[1])\n",
        "    else:\n",
        "        merged.append(current)\n",
        "\n",
        "print(\"Merged intervals:\", merged)"
      ],
      "metadata": {
        "colab": {
          "base_uri": "https://localhost:8080/"
        },
        "id": "PibhrCU8FdwH",
        "outputId": "cfd3aa4e-2661-453d-e427-e548c373da41"
      },
      "execution_count": 4,
      "outputs": [
        {
          "output_type": "stream",
          "name": "stdout",
          "text": [
            "Merged intervals: [[1, 6], [8, 10]]\n"
          ]
        }
      ]
    },
    {
      "cell_type": "code",
      "source": [
        "numbers = [1, 3, 5, 7, 9]\n",
        "target = 5\n",
        "low = 0\n",
        "high = len(numbers) - 1\n",
        "found = -1\n",
        "\n",
        "while low <= high:\n",
        "    mid = (low + high) // 2\n",
        "    if numbers[mid] == target:\n",
        "        found = mid\n",
        "        break\n",
        "    elif numbers[mid] < target:\n",
        "        low = mid + 1\n",
        "    else:\n",
        "        high = mid - 1\n",
        "\n",
        "print(\"Index of target:\",found)"
      ],
      "metadata": {
        "colab": {
          "base_uri": "https://localhost:8080/"
        },
        "id": "jXO4i6iBF3y1",
        "outputId": "5b032f01-c20a-40e7-d8c0-304267503f0a"
      },
      "execution_count": 5,
      "outputs": [
        {
          "output_type": "stream",
          "name": "stdout",
          "text": [
            "Index of target: 2\n"
          ]
        }
      ]
    },
    {
      "cell_type": "code",
      "source": [
        "matrix = [[1, 2], [3, 4], [5, 6]]\n",
        "transpose = []\n",
        "\n",
        "for i in range(len(matrix[0])):\n",
        "    row = []\n",
        "    for j in range(len(matrix)):\n",
        "        row.append(matrix[j][i])\n",
        "    transpose.append(row)\n",
        "\n",
        "print(\"Transposed matrix:\", transpose)"
      ],
      "metadata": {
        "colab": {
          "base_uri": "https://localhost:8080/"
        },
        "id": "ch9qHiUFF9tV",
        "outputId": "381f0c18-68cb-494b-9987-9ab5639a1868"
      },
      "execution_count": 6,
      "outputs": [
        {
          "output_type": "stream",
          "name": "stdout",
          "text": [
            "Transposed matrix: [[1, 3, 5], [2, 4, 6]]\n"
          ]
        }
      ]
    },
    {
      "cell_type": "code",
      "source": [
        "import math\n",
        "\n",
        "nums = [8, 11, 16, 12, 20]\n",
        "factorial_list = []\n",
        "\n",
        "for num in nums:\n",
        "    row = []\n",
        "    fact = 1\n",
        "    i = 1\n",
        "    while fact <= num:\n",
        "        row.append(i)\n",
        "        i += 1\n",
        "        fact = math.factorial(i - 1)\n",
        "    factorial_list.append(row)\n",
        "\n",
        "print(\"2D list with factorial elements:\")\n",
        "for r in factorial_list:\n",
        "    print(r)"
      ],
      "metadata": {
        "colab": {
          "base_uri": "https://localhost:8080/"
        },
        "id": "GVZ9yed9F-3F",
        "outputId": "304ede57-667d-46d4-9ad8-8d9034f878ee"
      },
      "execution_count": 7,
      "outputs": [
        {
          "output_type": "stream",
          "name": "stdout",
          "text": [
            "2D list with factorial elements:\n",
            "[1, 2, 3, 4]\n",
            "[1, 2, 3, 4]\n",
            "[1, 2, 3, 4]\n",
            "[1, 2, 3, 4]\n",
            "[1, 2, 3, 4]\n"
          ]
        }
      ]
    },
    {
      "cell_type": "code",
      "source": [
        "def sort_students(students):\n",
        "    sorted_students = sorted(students, key=lambda x: x[1], reverse=True)\n",
        "    print(\"Students Marks\")\n",
        "    for name, marks in sorted_students:\n",
        "        print(f\"{name}\\t{marks}\")\n",
        "\n",
        "# Example\n",
        "students = [(\"Ram\", 85), (\"Bharat\", 78), (\"Arjun\", 91)]\n",
        "sort_students(students)"
      ],
      "metadata": {
        "colab": {
          "base_uri": "https://localhost:8080/"
        },
        "id": "vLnioFjBGD8c",
        "outputId": "cd745947-774b-4b30-b4eb-f6cf5b717e85"
      },
      "execution_count": 8,
      "outputs": [
        {
          "output_type": "stream",
          "name": "stdout",
          "text": [
            "Students Marks\n",
            "Arjun\t91\n",
            "Ram\t85\n",
            "Bharat\t78\n"
          ]
        }
      ]
    },
    {
      "cell_type": "code",
      "source": [
        "def count_letters_freq(s):\n",
        "    s = s.lower().replace(\" \", \"\")\n",
        "    freq = {}\n",
        "    for char in s:\n",
        "        if char.isalpha():\n",
        "            freq[char] = freq.get(char, 0) + 1\n",
        "    return freq\n",
        "\n",
        "# Example\n",
        "input_str = input(\"Enter a string: \")\n",
        "print(count_letters_freq(input_str))"
      ],
      "metadata": {
        "colab": {
          "base_uri": "https://localhost:8080/"
        },
        "id": "MrBgJh8xGIEb",
        "outputId": "11b6f229-66ae-4fec-d861-4b6d2e92153e"
      },
      "execution_count": 10,
      "outputs": [
        {
          "output_type": "stream",
          "name": "stdout",
          "text": [
            "Enter a string: bubu\n",
            "{'b': 2, 'u': 2}\n"
          ]
        }
      ]
    },
    {
      "cell_type": "code",
      "source": [
        "from collections import Counter\n",
        "\n",
        "def remove_most_repeating(lst):\n",
        "    count = Counter(lst)\n",
        "    most_common = count.most_common(1)[0][0]\n",
        "    return [x for x in lst if x != most_common]\n",
        "\n",
        "# Example\n",
        "print(remove_most_repeating([4, 5, 7, 4, 4, 8, 7, 5]))"
      ],
      "metadata": {
        "colab": {
          "base_uri": "https://localhost:8080/"
        },
        "id": "DLLgs3TfGH37",
        "outputId": "06f0961c-2fd8-4640-9c15-ed521708fa93"
      },
      "execution_count": 11,
      "outputs": [
        {
          "output_type": "stream",
          "name": "stdout",
          "text": [
            "[5, 7, 8, 7, 5]\n"
          ]
        }
      ]
    }
  ]
}