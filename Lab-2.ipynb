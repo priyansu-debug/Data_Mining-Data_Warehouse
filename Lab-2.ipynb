{
  "nbformat": 4,
  "nbformat_minor": 0,
  "metadata": {
    "colab": {
      "provenance": [],
      "authorship_tag": "ABX9TyOAUIhXCDCFlpoQhh7WS3B7"
    },
    "kernelspec": {
      "name": "python3",
      "display_name": "Python 3"
    },
    "language_info": {
      "name": "python"
    }
  },
  "cells": [
    {
      "cell_type": "code",
      "source": [
        "import math\n",
        "fac=math.factorial(12)\n",
        "print(fac)\n",
        "\n",
        "sqr=math.sqrt(25)\n",
        "print(sqr)\n",
        "\n",
        "great=math.gcd(15)\n",
        "print(great)\n",
        "\n",
        "const=math.pi\n",
        "print(const)\n",
        "\n",
        "loga=math.log2(10)\n",
        "print(loga)\n",
        "\n",
        "power=math.pow(2,3)\n",
        "print(power)\n",
        "\n",
        "ceil=math.ceil(9.4)\n",
        "print(ceil)\n",
        "\n",
        "sin=math.sin(30)\n",
        "print(sin)\n",
        "\n",
        "absolute=abs(-45)\n",
        "print(absolute)\n",
        "\n",
        "exp=math.exp(2)\n",
        "print(exp)\n"
      ],
      "metadata": {
        "colab": {
          "base_uri": "https://localhost:8080/"
        },
        "id": "bRDmzrH8lxsP",
        "outputId": "30feb8cd-2a40-49ef-fece-a61320adcb0e"
      },
      "execution_count": 26,
      "outputs": [
        {
          "output_type": "stream",
          "name": "stdout",
          "text": [
            "479001600\n",
            "5.0\n",
            "15\n",
            "3.141592653589793\n",
            "3.321928094887362\n",
            "8.0\n",
            "10\n",
            "-0.9880316240928618\n",
            "45\n",
            "7.38905609893065\n"
          ]
        }
      ]
    },
    {
      "cell_type": "code",
      "source": [
        "import pandas as pd\n",
        "import numpy as np\n",
        "ages=np.array([12,20,35])\n",
        "series=pd.Series(ages)\n",
        "print(series)"
      ],
      "metadata": {
        "colab": {
          "base_uri": "https://localhost:8080/"
        },
        "id": "3zSH_OSErTtR",
        "outputId": "a728228a-1e25-499c-adcc-c1ec90e1d8de"
      },
      "execution_count": 27,
      "outputs": [
        {
          "output_type": "stream",
          "name": "stdout",
          "text": [
            "0    12\n",
            "1    20\n",
            "2    35\n",
            "dtype: int64\n"
          ]
        }
      ]
    },
    {
      "cell_type": "markdown",
      "source": [
        "# New section"
      ],
      "metadata": {
        "id": "wAhTlhB2mEso"
      }
    },
    {
      "cell_type": "code",
      "metadata": {
        "colab": {
          "base_uri": "https://localhost:8080/"
        },
        "id": "1b5a4fac",
        "outputId": "63e86ddf-629f-480c-f68e-3264cf651f77"
      },
      "source": [
        "import pandas as pd\n",
        "import numpy as np\n",
        "ser=pd.Series(ages,index=['ram','sita','hanuman'])\n",
        "print(ser)"
      ],
      "execution_count": 30,
      "outputs": [
        {
          "output_type": "stream",
          "name": "stdout",
          "text": [
            "ram        12\n",
            "sita       20\n",
            "hanuman    35\n",
            "dtype: int64\n"
          ]
        }
      ]
    },
    {
      "cell_type": "code",
      "source": [
        "import pandas as pd\n",
        "import numpy as np\n",
        "dataf=pd.DataFrame([['Ram',10,'CSE'],['Sita',20,'ETB'],['Lakhman',30,'MTB']],columns=['Name','Age','Ads'])\n",
        "print(dataf)\n",
        "erp=dataf.set_index('Name')\n",
        "print(erp)"
      ],
      "metadata": {
        "colab": {
          "base_uri": "https://localhost:8080/"
        },
        "id": "-WWC0f7_sUKn",
        "outputId": "320e49c6-22f3-4d2b-915e-d6f152553454"
      },
      "execution_count": 37,
      "outputs": [
        {
          "output_type": "stream",
          "name": "stdout",
          "text": [
            "      Name  Age  Ads\n",
            "0      Ram   10  CSE\n",
            "1     Sita   20  ETB\n",
            "2  Lakhman   30  MTB\n",
            "         Age  Ads\n",
            "Name             \n",
            "Ram       10  CSE\n",
            "Sita      20  ETB\n",
            "Lakhman   30  MTB\n"
          ]
        }
      ]
    },
    {
      "cell_type": "code",
      "source": [
        "import numpy as np\n",
        "list=[2,4,6,8,10,12,14,16]\n",
        "arr=np.array(list)\n",
        "print(arr)\n",
        "mean=np.mean(arr)\n",
        "print(mean)\n",
        "median=np.median(arr)\n",
        "print(median)\n",
        "std=np.std(arr)\n",
        "print(std)\n",
        "reshape=arr.reshape(2,4)\n",
        "print(reshape)\n",
        "sqrt=np.sqrt(arr)\n",
        "print(sqrt)\n",
        "max=np.argmax(arr)\n",
        "print(max)\n",
        "narr=arr[arr>8]\n",
        "print(narr)"
      ],
      "metadata": {
        "colab": {
          "base_uri": "https://localhost:8080/"
        },
        "id": "mNZ9nMGavNsp",
        "outputId": "04347eb6-bb0f-47d9-d688-d1fa4a371840"
      },
      "execution_count": 38,
      "outputs": [
        {
          "output_type": "stream",
          "name": "stdout",
          "text": [
            "[ 2  4  6  8 10 12 14 16]\n",
            "9.0\n",
            "9.0\n",
            "4.58257569495584\n",
            "[[ 2  4  6  8]\n",
            " [10 12 14 16]]\n",
            "[1.41421356 2.         2.44948974 2.82842712 3.16227766 3.46410162\n",
            " 3.74165739 4.        ]\n",
            "7\n",
            "[10 12 14 16]\n"
          ]
        }
      ]
    },
    {
      "cell_type": "code",
      "source": [
        "import pandas as pd\n",
        "import numpy as np\n",
        "dataf=pd.DataFrame([['Alice',28,'HR',50000],['Bob',22,'Engineering',60000],['Charlie',35,'HR',55000],['David',30,'Engineering',62000],['Eve',25,'Finance',45000]],columns=['Name','Age','Dept','Salary'])\n",
        "print(dataf)\n",
        "\n",
        "avg_salary = dataf['Salary'].mean()\n",
        "print(\"Average Salary of employees:\", avg_salary)\n",
        "\n",
        "max_age_engineering = dataf[dataf['Dept'] == 'Engineering']['Age'].max()\n",
        "print(\"Maximum age in Engineering department:\", max_age_engineering)\n",
        "\n",
        "high_salary_names = dataf[dataf['Salary'] > 50000]['Name']\n",
        "print(\"Employees with salary greater than 50000:\\n\", high_salary_names)\n",
        "\n",
        "dataf.loc[len(dataf)] = ['Frank', 40, 'Finance', 55000]\n",
        "print(dataf)\n",
        "\n",
        "dataf=dataf[dataf['Name'] != 'Eve']\n",
        "print(dataf)"
      ],
      "metadata": {
        "colab": {
          "base_uri": "https://localhost:8080/"
        },
        "id": "ZquuiwCxxI0v",
        "outputId": "bbb950fd-08ce-49d6-d54f-4fbbf4fa1a5a"
      },
      "execution_count": 47,
      "outputs": [
        {
          "output_type": "stream",
          "name": "stdout",
          "text": [
            "      Name  Age         Dept  Salary\n",
            "0    Alice   28           HR   50000\n",
            "1      Bob   22  Engineering   60000\n",
            "2  Charlie   35           HR   55000\n",
            "3    David   30  Engineering   62000\n",
            "4      Eve   25      Finance   45000\n",
            "Average Salary of employees: 54400.0\n",
            "Maximum age in Engineering department: 30\n",
            "Employees with salary greater than 50000:\n",
            " 1        Bob\n",
            "2    Charlie\n",
            "3      David\n",
            "Name: Name, dtype: object\n",
            "      Name  Age         Dept  Salary\n",
            "0    Alice   28           HR   50000\n",
            "1      Bob   22  Engineering   60000\n",
            "2  Charlie   35           HR   55000\n",
            "3    David   30  Engineering   62000\n",
            "4      Eve   25      Finance   45000\n",
            "5    Frank   40      Finance   55000\n",
            "      Name  Age         Dept  Salary\n",
            "0    Alice   28           HR   50000\n",
            "1      Bob   22  Engineering   60000\n",
            "2  Charlie   35           HR   55000\n",
            "3    David   30  Engineering   62000\n",
            "5    Frank   40      Finance   55000\n"
          ]
        }
      ]
    }
  ]
}